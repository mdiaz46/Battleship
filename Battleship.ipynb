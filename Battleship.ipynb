{
 "cells": [
  {
   "cell_type": "markdown",
   "source": [
    "![Battleship!](https://as2.ftcdn.net/v2/jpg/00/87/21/85/1000_F_87218523_yGkxsi5eOqlrrmm7tMhjaAvstRa7JFf7.jpg \"Battleship\")\n",
    "\n",
    "You're playing Battleship on a grid of cells with R rows and C columns.\n",
    "There are 0 or more battleships on the grid, each occupying a single distinct cell.\n",
    "The cell in the ith row from the top and jth column from the left either contains a battleship $G_{ij} = 1 $\n",
    "or doesn't $G_{ij} = 0$\n",
    "\n",
    "You're going to fire a single shot at a random cell in the grid.\n",
    "You'll choose this cell uniformly at random from the $R*C$ possible cells.\n",
    "You're interested in the probability that the cell hit by your shot contains a battleship.\n",
    "\n",
    "Your task is to implement the function `getHitProbability(R, C, G)` which returns this probability.\n",
    "\n",
    "Note: Your return value must have an absolute or relative error of at most $10^{-6}$\n",
    "to be considered correct.\n",
    "\n",
    "#### Constraints\n",
    "\n",
    "$ 1 \\leq R,C \\leq 100 $ \\\n",
    "$ 0 \\leq G_{ij} \\leq 1$\n",
    "\n",
    "<br>\n",
    "\n",
    "#### Solution\n",
    "\n",
    "To calculate the probability that the cell hit by your shot contains a battleship, we can simply count the number of cells containing battleships and divide it by the total number of cells. Here's the implementation for the `getHitProbability()` function:"
   ],
   "metadata": {
    "collapsed": false,
    "pycharm": {
     "name": "#%% md\n"
    }
   }
  },
  {
   "cell_type": "code",
   "execution_count": 2,
   "outputs": [],
   "source": [
    "from typing import List"
   ],
   "metadata": {
    "collapsed": false,
    "pycharm": {
     "name": "#%%\n"
    }
   }
  },
  {
   "cell_type": "code",
   "execution_count": 4,
   "outputs": [],
   "source": [
    "def getHitProbability(R: int, C: int, G: List[List[int]]) -> float:\n",
    "  # Write your code here\n",
    "  total_cells = R*C\n",
    "  num_battleship_cells =  sum(row.count(1) for row in G)\n",
    "  return num_battleship_cells / total_cells"
   ],
   "metadata": {
    "collapsed": false,
    "pycharm": {
     "name": "#%%\n"
    }
   }
  },
  {
   "cell_type": "code",
   "execution_count": 5,
   "outputs": [
    {
     "data": {
      "text/plain": "0.5"
     },
     "execution_count": 5,
     "metadata": {},
     "output_type": "execute_result"
    }
   ],
   "source": [
    "getHitProbability(2,3,[[0,0,1], [1,0, 1]])"
   ],
   "metadata": {
    "collapsed": false,
    "pycharm": {
     "name": "#%%\n"
    }
   }
  }
 ],
 "metadata": {
  "kernelspec": {
   "display_name": "Python 3",
   "language": "python",
   "name": "python3"
  },
  "language_info": {
   "codemirror_mode": {
    "name": "ipython",
    "version": 2
   },
   "file_extension": ".py",
   "mimetype": "text/x-python",
   "name": "python",
   "nbconvert_exporter": "python",
   "pygments_lexer": "ipython2",
   "version": "2.7.6"
  }
 },
 "nbformat": 4,
 "nbformat_minor": 0
}